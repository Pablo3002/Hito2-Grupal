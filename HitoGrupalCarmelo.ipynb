{
 "cells": [
  {
   "cell_type": "markdown",
   "id": "b22a06fb",
   "metadata": {},
   "source": [
    "# Lista"
   ]
  },
  {
   "cell_type": "code",
   "execution_count": 1,
   "id": "e7de33f4",
   "metadata": {},
   "outputs": [
    {
     "name": "stdout",
     "output_type": "stream",
     "text": [
      "[10, 2, 3, 4]\n",
      "[['Perro', 'Gato'], ['Cocodrilo', 'Elefante']]\n",
      "[10, 2, 3, 4, 200]\n",
      "[10, 2, 3, 4]\n",
      "[2, 3, 4, 10]\n",
      "[10, 4, 3, 2]\n"
     ]
    }
   ],
   "source": [
    "lista = [1, 2, 3, 4]\n",
    "lista[0] = 10\n",
    "print(lista) #Cambiando elementos en una lista\n",
    "\n",
    "lista2 = [[\"Perro\", \"Gato\"], [\"Cocodrilo\", \"Elefante\"]] #Listas Anidadas\n",
    "print(lista2)\n",
    "\n",
    "lista.append(200)#Añadir elementos con el método append\n",
    "print(lista)\n",
    "\n",
    "lista.remove(200)#Eliminar Elemento de una Lista\n",
    "print(lista)\n",
    "\n",
    "lista.sort()#Ordenar Lista de menor a mayor\n",
    "print(lista)\n",
    "\n",
    "lista.reverse()#Método Reverse que da la vuelta a la lista\n",
    "print(lista)"
   ]
  },
  {
   "cell_type": "markdown",
   "id": "78c11d62",
   "metadata": {},
   "source": [
    "# Set"
   ]
  },
  {
   "cell_type": "code",
   "execution_count": 2,
   "id": "0c79cfdd",
   "metadata": {},
   "outputs": [
    {
     "name": "stdout",
     "output_type": "stream",
     "text": [
      "{1, 2, 3}\n",
      "{2, 3}\n",
      "{2, 3, 4, 5, 6}\n"
     ]
    }
   ],
   "source": [
    "miset = {1, 2, 3}\n",
    "print(miset)\n",
    "\n",
    "miset.pop()#Elimina un elemento aleatorio del set\n",
    "print(miset)\n",
    "\n",
    "miset2 = {4, 5, 6}\n",
    "miset3 = miset2.union(miset)\n",
    "print(miset3)#Método union que sirve para unir varios set"
   ]
  },
  {
   "cell_type": "markdown",
   "id": "3afdfaab",
   "metadata": {},
   "source": [
    "# Tupla"
   ]
  },
  {
   "cell_type": "code",
   "execution_count": 3,
   "id": "474c7f0b",
   "metadata": {},
   "outputs": [
    {
     "name": "stdout",
     "output_type": "stream",
     "text": [
      "17\n",
      "hola\n",
      "35\n",
      "mundo\n"
     ]
    }
   ],
   "source": [
    "#Creamos la tupla\n",
    "datos = (17, 'hola', 35, 'mundo')\n",
    "#Recorremos la tupla con un for y mostramos todos los datos que estan dentro de la tupla \n",
    "for i in datos:\n",
    "    print (i)"
   ]
  },
  {
   "cell_type": "markdown",
   "id": "d8e0d910",
   "metadata": {},
   "source": [
    "# Diccionario"
   ]
  },
  {
   "cell_type": "markdown",
   "id": "eedcc7b0",
   "metadata": {},
   "source": [
    "Aqui creamos un diccionario con las ciudades y el lado el numero de poblacion y debajo un for para recorrer el diccionario"
   ]
  },
  {
   "cell_type": "code",
   "execution_count": 4,
   "id": "f9c43834",
   "metadata": {},
   "outputs": [
    {
     "name": "stdout",
     "output_type": "stream",
     "text": [
      "Madrid --> 3223000\n",
      "Sevilla --> 688711\n",
      "Bilbao --> 345821\n",
      "Valladolid --> 298866\n"
     ]
    }
   ],
   "source": [
    "ciudades={'Madrid':3223000,'Sevilla':688711,'Bilbao':345821,'Valladolid':298866}\n",
    "for c in ciudades:\n",
    "    print(c,\"-->\",ciudades[c])"
   ]
  },
  {
   "cell_type": "markdown",
   "id": "3c3e0d67",
   "metadata": {},
   "source": [
    "# Herencia, Constructores y Getters and Setters"
   ]
  },
  {
   "cell_type": "code",
   "execution_count": 5,
   "id": "f7c24867",
   "metadata": {},
   "outputs": [
    {
     "name": "stdout",
     "output_type": "stream",
     "text": [
      "El animal Corre\n",
      "El animal Salta\n"
     ]
    }
   ],
   "source": [
    "#Creamos la clase Padre Animal\n",
    "class Animal:\n",
    "    #Creamos el init con los parametros que va a tener el Animal y creamos los constructores\n",
    "    def __init__(self, especie, edad, nombre):\n",
    "        self.especie = especie\n",
    "        self.edad = edad\n",
    "        self.nombre = nombre\n",
    "        \n",
    "    #Creamos el getter de nombre\n",
    "    def get_nombre(self):\n",
    "        return self._nombre\n",
    "    \n",
    "    #Creamos el setter de nombre\n",
    "    def set_nombre(self,nombre):\n",
    "        self._nombre = nombre\n",
    "    #Creamos la definicion correr\n",
    "    def correr(self):\n",
    "        print(\"El animal Corre\")\n",
    "        pass\n",
    "\n",
    "    #Creamos la definicion saltar\n",
    "    def saltar(self):\n",
    "        print(\"El animal Salta\")\n",
    "        pass\n",
    "        \n",
    "#Creamos la clase Perro que hereda de Animal\n",
    "class Perro(Animal):\n",
    "    def __init__(self):\n",
    "        pass\n",
    "\n",
    "perro = Perro()\n",
    "perro.correr()\n",
    "perro.saltar()\n",
    "\n"
   ]
  },
  {
   "cell_type": "markdown",
   "id": "71684736",
   "metadata": {},
   "source": [
    "# Sobrecarga "
   ]
  },
  {
   "cell_type": "markdown",
   "id": "0840460d",
   "metadata": {},
   "source": [
    "En este ejemplo tenemos 2 funciones que se llaman igual, la primera unicamente tiene 1 parametro y la segunda tiene 2, si solo ponemos 1 parametro para llamar a el primer método nos va a dar error asique debemos poner 2 parámetros para llamar al 2 método"
   ]
  },
  {
   "cell_type": "code",
   "execution_count": 6,
   "id": "b464cfe5",
   "metadata": {},
   "outputs": [
    {
     "name": "stdout",
     "output_type": "stream",
     "text": [
      "Hola pepe martinez\n"
     ]
    }
   ],
   "source": [
    "def saludo(nombre):\n",
    "    print(\"Hola\", nombre)\n",
    "def saludo(nombre,apellido):\n",
    "    print(\"Hola\",nombre,apellido)\n",
    "saludo(\"pepe\",\"martinez\")"
   ]
  },
  {
   "cell_type": "markdown",
   "id": "b56c0c39",
   "metadata": {},
   "source": [
    "# Sobreescritura"
   ]
  },
  {
   "cell_type": "markdown",
   "id": "486b4eb0",
   "metadata": {},
   "source": [
    "En este ejmeplo tenemos 3 animales con el mísmo método (hablar) vemos como podemos utilizar la funcion hablar de cada uno de ellos"
   ]
  },
  {
   "cell_type": "code",
   "execution_count": 7,
   "id": "6bda9537",
   "metadata": {},
   "outputs": [
    {
     "name": "stdout",
     "output_type": "stream",
     "text": [
      "Soy un Pulpo\n",
      "Soy una foca, este es mi mensaje\n"
     ]
    }
   ],
   "source": [
    "class Marino(): #Clase Padre\n",
    "    def hablar(self): #Método Hablar\n",
    "        print (\"Hola..\")\n",
    "class Pulpo(Marino): #Clase Hija\n",
    "    def hablar (self): #Método Hablar\n",
    "        print (\"Soy un Pulpo\")\n",
    "class Foca(Marino): #Clase Hija\n",
    "    def hablar (self, mensaje): #Método Hablar\n",
    "        print (mensaje)\n",
    "Pulpito = Pulpo() #Instancia\n",
    "Foca = Foca() #Instancia\n",
    "Pulpito.hablar() #Llamamos al método\n",
    "Foca.hablar(\"Soy una foca, este es mi mensaje\") #Llamamos al método"
   ]
  },
  {
   "cell_type": "markdown",
   "id": "902cab1d",
   "metadata": {},
   "source": [
    "# Polimorfismo"
   ]
  },
  {
   "cell_type": "code",
   "execution_count": 8,
   "id": "9f9bb824",
   "metadata": {},
   "outputs": [
    {
     "name": "stdout",
     "output_type": "stream",
     "text": [
      "El Gato Respirando\n",
      "El Perro Respirando\n"
     ]
    }
   ],
   "source": [
    "#Creamos la función funcionRespirar y se le pasa un objeto que dependiendo de que clase sea \n",
    "#se ejecutará el método respirar de la clase Perro o de la Clase Gato \n",
    "def funcionRespirar(animal):\n",
    "    animal.respirar()\n",
    "\n",
    "#Creamos la Clase Perro y la Clase Gato\n",
    "class Gato:\n",
    "    def __init__(self):\n",
    "        pass\n",
    "    \n",
    "    def respirar(self):\n",
    "        print(\"El Gato Respirando\")\n",
    "\n",
    "class Perro:\n",
    "    def __init__(self):\n",
    "        pass\n",
    "    \n",
    "    def respirar(self):\n",
    "        print(\"El Perro Respirando\")\n",
    "\n",
    "animal = Gato()\n",
    "animal1 = Perro()\n",
    "#Ejecutamos la funcion funcionRespirar que dependiendo del objeto va a ejecutar el método respirar del Perro o del gato\n",
    "funcionRespirar(animal) \n",
    "funcionRespirar(animal1)    "
   ]
  },
  {
   "cell_type": "code",
   "execution_count": null,
   "id": "a4615a0f",
   "metadata": {},
   "outputs": [],
   "source": []
  },
  {
   "cell_type": "code",
   "execution_count": null,
   "id": "96b7a86a",
   "metadata": {},
   "outputs": [],
   "source": []
  }
 ],
 "metadata": {
  "kernelspec": {
   "display_name": "Python 3 (ipykernel)",
   "language": "python",
   "name": "python3"
  },
  "language_info": {
   "codemirror_mode": {
    "name": "ipython",
    "version": 3
   },
   "file_extension": ".py",
   "mimetype": "text/x-python",
   "name": "python",
   "nbconvert_exporter": "python",
   "pygments_lexer": "ipython3",
   "version": "3.9.7"
  }
 },
 "nbformat": 4,
 "nbformat_minor": 5
}
